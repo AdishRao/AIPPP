{
 "cells": [
  {
   "cell_type": "code",
   "execution_count": 187,
   "metadata": {},
   "outputs": [],
   "source": [
    "import pandas as pd\n",
    "import matplotlib.pyplot as plt\n",
    "import numpy as np"
   ]
  },
  {
   "cell_type": "code",
   "execution_count": 226,
   "metadata": {},
   "outputs": [],
   "source": [
    "df1 = pd.read_csv('results_mul.csv')"
   ]
  },
  {
   "cell_type": "code",
   "execution_count": 227,
   "metadata": {},
   "outputs": [],
   "source": [
    "df2 = pd.read_csv('ferb_results/results_mul.csv')"
   ]
  },
  {
   "cell_type": "code",
   "execution_count": 228,
   "metadata": {},
   "outputs": [
    {
     "data": {
      "text/html": [
       "<div>\n",
       "<style scoped>\n",
       "    .dataframe tbody tr th:only-of-type {\n",
       "        vertical-align: middle;\n",
       "    }\n",
       "\n",
       "    .dataframe tbody tr th {\n",
       "        vertical-align: top;\n",
       "    }\n",
       "\n",
       "    .dataframe thead th {\n",
       "        text-align: right;\n",
       "    }\n",
       "</style>\n",
       "<table border=\"1\" class=\"dataframe\">\n",
       "  <thead>\n",
       "    <tr style=\"text-align: right;\">\n",
       "      <th></th>\n",
       "      <th>m</th>\n",
       "      <th>n</th>\n",
       "      <th>p</th>\n",
       "      <th>no of procs</th>\n",
       "      <th>itter</th>\n",
       "      <th>error</th>\n",
       "      <th>time</th>\n",
       "    </tr>\n",
       "  </thead>\n",
       "  <tbody>\n",
       "    <tr>\n",
       "      <th>0</th>\n",
       "      <td>10</td>\n",
       "      <td>10</td>\n",
       "      <td>10</td>\n",
       "      <td>1</td>\n",
       "      <td>1</td>\n",
       "      <td>4.054135</td>\n",
       "      <td>0.048626</td>\n",
       "    </tr>\n",
       "    <tr>\n",
       "      <th>1</th>\n",
       "      <td>10</td>\n",
       "      <td>10</td>\n",
       "      <td>10</td>\n",
       "      <td>1</td>\n",
       "      <td>2</td>\n",
       "      <td>4.025131</td>\n",
       "      <td>0.049568</td>\n",
       "    </tr>\n",
       "    <tr>\n",
       "      <th>2</th>\n",
       "      <td>10</td>\n",
       "      <td>10</td>\n",
       "      <td>10</td>\n",
       "      <td>1</td>\n",
       "      <td>3</td>\n",
       "      <td>4.002596</td>\n",
       "      <td>0.047551</td>\n",
       "    </tr>\n",
       "    <tr>\n",
       "      <th>3</th>\n",
       "      <td>10</td>\n",
       "      <td>10</td>\n",
       "      <td>10</td>\n",
       "      <td>1</td>\n",
       "      <td>4</td>\n",
       "      <td>4.024065</td>\n",
       "      <td>0.047469</td>\n",
       "    </tr>\n",
       "    <tr>\n",
       "      <th>4</th>\n",
       "      <td>10</td>\n",
       "      <td>10</td>\n",
       "      <td>10</td>\n",
       "      <td>1</td>\n",
       "      <td>5</td>\n",
       "      <td>4.062052</td>\n",
       "      <td>0.048875</td>\n",
       "    </tr>\n",
       "  </tbody>\n",
       "</table>\n",
       "</div>"
      ],
      "text/plain": [
       "    m   n   p  no of procs  itter     error      time\n",
       "0  10  10  10            1      1  4.054135  0.048626\n",
       "1  10  10  10            1      2  4.025131  0.049568\n",
       "2  10  10  10            1      3  4.002596  0.047551\n",
       "3  10  10  10            1      4  4.024065  0.047469\n",
       "4  10  10  10            1      5  4.062052  0.048875"
      ]
     },
     "execution_count": 228,
     "metadata": {},
     "output_type": "execute_result"
    }
   ],
   "source": [
    "df1.head()"
   ]
  },
  {
   "cell_type": "code",
   "execution_count": 229,
   "metadata": {},
   "outputs": [],
   "source": [
    "df2['time'] = df2['time']/(1000000)"
   ]
  },
  {
   "cell_type": "code",
   "execution_count": 230,
   "metadata": {},
   "outputs": [
    {
     "data": {
      "text/html": [
       "<div>\n",
       "<style scoped>\n",
       "    .dataframe tbody tr th:only-of-type {\n",
       "        vertical-align: middle;\n",
       "    }\n",
       "\n",
       "    .dataframe tbody tr th {\n",
       "        vertical-align: top;\n",
       "    }\n",
       "\n",
       "    .dataframe thead th {\n",
       "        text-align: right;\n",
       "    }\n",
       "</style>\n",
       "<table border=\"1\" class=\"dataframe\">\n",
       "  <thead>\n",
       "    <tr style=\"text-align: right;\">\n",
       "      <th></th>\n",
       "      <th>m</th>\n",
       "      <th>n</th>\n",
       "      <th>p</th>\n",
       "      <th>no of procs</th>\n",
       "      <th>itter</th>\n",
       "      <th>error</th>\n",
       "      <th>time</th>\n",
       "    </tr>\n",
       "  </thead>\n",
       "  <tbody>\n",
       "    <tr>\n",
       "      <th>0</th>\n",
       "      <td>10</td>\n",
       "      <td>10</td>\n",
       "      <td>10</td>\n",
       "      <td>1</td>\n",
       "      <td>1</td>\n",
       "      <td>4.034547</td>\n",
       "      <td>0.013112</td>\n",
       "    </tr>\n",
       "    <tr>\n",
       "      <th>1</th>\n",
       "      <td>10</td>\n",
       "      <td>10</td>\n",
       "      <td>10</td>\n",
       "      <td>1</td>\n",
       "      <td>2</td>\n",
       "      <td>4.049180</td>\n",
       "      <td>0.011370</td>\n",
       "    </tr>\n",
       "    <tr>\n",
       "      <th>2</th>\n",
       "      <td>10</td>\n",
       "      <td>10</td>\n",
       "      <td>10</td>\n",
       "      <td>1</td>\n",
       "      <td>3</td>\n",
       "      <td>4.049180</td>\n",
       "      <td>0.011493</td>\n",
       "    </tr>\n",
       "    <tr>\n",
       "      <th>3</th>\n",
       "      <td>10</td>\n",
       "      <td>10</td>\n",
       "      <td>10</td>\n",
       "      <td>1</td>\n",
       "      <td>4</td>\n",
       "      <td>4.049180</td>\n",
       "      <td>0.011388</td>\n",
       "    </tr>\n",
       "    <tr>\n",
       "      <th>4</th>\n",
       "      <td>10</td>\n",
       "      <td>10</td>\n",
       "      <td>10</td>\n",
       "      <td>1</td>\n",
       "      <td>5</td>\n",
       "      <td>4.049180</td>\n",
       "      <td>0.011203</td>\n",
       "    </tr>\n",
       "  </tbody>\n",
       "</table>\n",
       "</div>"
      ],
      "text/plain": [
       "    m   n   p  no of procs  itter     error      time\n",
       "0  10  10  10            1      1  4.034547  0.013112\n",
       "1  10  10  10            1      2  4.049180  0.011370\n",
       "2  10  10  10            1      3  4.049180  0.011493\n",
       "3  10  10  10            1      4  4.049180  0.011388\n",
       "4  10  10  10            1      5  4.049180  0.011203"
      ]
     },
     "execution_count": 230,
     "metadata": {},
     "output_type": "execute_result"
    }
   ],
   "source": [
    "df2.head()"
   ]
  },
  {
   "cell_type": "code",
   "execution_count": 231,
   "metadata": {},
   "outputs": [],
   "source": [
    "results1 = {}\n",
    "results2 = {}"
   ]
  },
  {
   "cell_type": "code",
   "execution_count": 233,
   "metadata": {},
   "outputs": [],
   "source": [
    "for i in range(len(df1['no of vectors'])):\n",
    "    if i%40 == 0:\n",
    "        results1[df1['no of vectors'][i]] = {}\n",
    "        results2[df1['no of vectors'][i]] = {}\n",
    "        vec_no = df1['no of vectors'][i]\n",
    "    if i%5==0:\n",
    "        no_of_proc = df1['no of procs'][i]\n",
    "        results1[vec_no][no_of_proc] = 0\n",
    "        results2[vec_no][no_of_proc] = 0\n",
    "    results1[vec_no][no_of_proc] += df1['time'][i]\n",
    "    results2[vec_no][no_of_proc] += df2['time'][i]\n",
    "for key,value in results1.items():\n",
    "    for key2,value2 in value.items():\n",
    "        results1[key][key2] = value2/5\n",
    "for key,value in results2.items():\n",
    "    for key2,value2 in value.items():\n",
    "        results2[key][key2] = value2/5"
   ]
  },
  {
   "cell_type": "code",
   "execution_count": 168,
   "metadata": {
    "scrolled": true
   },
   "outputs": [],
   "source": [
    "results3 = {}"
   ]
  },
  {
   "cell_type": "code",
   "execution_count": 169,
   "metadata": {},
   "outputs": [],
   "source": [
    "for ((key1,value1),(key2,value2)) in zip(results1.items(),results2.items()):\n",
    "    results3[key2] = {}\n",
    "    for ((key3,value3),(key4,value4)) in zip(value1.items(),value2.items()):\n",
    "        val = value3-value4\n",
    "        results3[key2][key3] = val"
   ]
  },
  {
   "cell_type": "code",
   "execution_count": 103,
   "metadata": {
    "collapsed": true
   },
   "outputs": [
    {
     "data": {
      "text/plain": [
       "{1000: {1: 0.055772967523193356,\n",
       "  2: 0.12492794888305664,\n",
       "  3: 0.12286150386962891,\n",
       "  4: 0.1167535275909424,\n",
       "  5: 0.11195715237731935,\n",
       "  6: 0.1189920944946289,\n",
       "  7: 0.10634570328063962,\n",
       "  8: 0.11231620949096681},\n",
       " 10000: {1: 0.43440715546264647,\n",
       "  2: 0.2279175622161865,\n",
       "  3: 0.16399041975402834,\n",
       "  4: 0.12894941438293459,\n",
       "  5: 0.10754023836364746,\n",
       "  6: 0.09863935560913087,\n",
       "  7: 0.10223980436096192,\n",
       "  8: 0.08699968330078126},\n",
       " 100000: {1: 4.3096439494812016,\n",
       "  2: 2.222767136404419,\n",
       "  3: 1.4531792295196533,\n",
       "  4: 1.1013175503601076,\n",
       "  5: 0.9696797211303712,\n",
       "  6: 0.8328377224975586,\n",
       "  7: 0.7621629910858154,\n",
       "  8: 0.7296455385009766},\n",
       " 1000000: {1: 49.27312185000306,\n",
       "  2: 25.198944837127684,\n",
       "  3: 16.678038271084592,\n",
       "  4: 12.294274698370362,\n",
       "  5: 10.406140007391357,\n",
       "  6: 8.577899387716675,\n",
       "  7: 7.472330381195068,\n",
       "  8: 6.761174879373169},\n",
       " 10000000: {1: 516.5815408516296,\n",
       "  2: 258.07434360363766,\n",
       "  3: 173.4836303268982,\n",
       "  4: 128.87823411297913,\n",
       "  5: 107.06860737200319,\n",
       "  6: 90.86684810936279,\n",
       "  7: 78.87033949509278,\n",
       "  8: 70.22800202563171}}"
      ]
     },
     "execution_count": 103,
     "metadata": {},
     "output_type": "execute_result"
    }
   ],
   "source": [
    "results3"
   ]
  },
  {
   "cell_type": "markdown",
   "metadata": {},
   "source": [
    "# Plotting Time Taken to Run"
   ]
  },
  {
   "cell_type": "code",
   "execution_count": 235,
   "metadata": {},
   "outputs": [
    {
     "data": {
      "image/png": "[encoded data removed]",
      "text/plain": [
       "<Figure size 1280x1120 with 4 Axes>"
      ]
     },
     "metadata": {
      "needs_background": "light"
     },
     "output_type": "display_data"
    }
   ],
   "source": [
    "#Result1 is python Result2 is C\n",
    "\n",
    "fig, axs = plt.subplots(, 2, sharey=False, figsize=(16, 14), dpi=80)\n",
    "# Remove horizontal space between axes\n",
    "fig.subplots_adjust(wspace=0.2)\n",
    "fig.subplots_adjust(hspace=0.3)\n",
    "\n",
    "\n",
    "width = 0.35 \n",
    "ind = np.arange(1,9) \n",
    "\n",
    "keys = results1[list(results1.keys())[0]].keys()\n",
    "values = results1[list(results1.keys())[0]].values()\n",
    "keys2 = results2[list(results2.keys())[0]].keys()\n",
    "values2 = results2[list(results2.keys())[0]].values()\n",
    "axs[0][0].bar(ind,values, width)\n",
    "axs[0][0].bar(ind+width,values2,width)\n",
    "axs[0][0].set_title(list(results1.keys())[0])\n",
    "\n",
    "keys = results1[list(results1.keys())[1]].keys()\n",
    "values = results1[list(results1.keys())[1]].values()\n",
    "keys2 = results2[list(results2.keys())[1]].keys()\n",
    "values2 = results2[list(results2.keys())[1]].values()\n",
    "axs[0][1].bar(ind,values, width)\n",
    "axs[0][1].bar(ind+width,values2,width)\n",
    "axs[0][1].set_title(list(results1.keys())[1])\n",
    "\n",
    "keys = results1[list(results1.keys())[2]].keys()\n",
    "values = results1[list(results1.keys())[2]].values()\n",
    "keys2 = results2[list(results2.keys())[2]].keys()\n",
    "values2 = results2[list(results2.keys())[2]].values()\n",
    "axs[1][0].bar(ind,values, width)\n",
    "axs[1][0].bar(ind+width,values2,width)\n",
    "axs[1][0].set_title(list(results1.keys())[2])\n",
    "\n",
    "keys = results1[list(results1.keys())[3]].keys()\n",
    "values = results1[list(results1.keys())[3]].values()\n",
    "keys2 = results2[list(results2.keys())[3]].keys()\n",
    "values2 = results2[list(results2.keys())[3]].values()\n",
    "axs[1][1].bar(ind,values, width)\n",
    "axs[1][1].bar(ind+width,values2,width)\n",
    "axs[1][1].set_title(list(results1.keys())[3])\n",
    "\n",
    "keys = results1[list(results1.keys())[4]].keys()\n",
    "values = results1[list(results1.keys())[4]].values()\n",
    "keys2 = results2[list(results2.keys())[4]].keys()\n",
    "values2 = results2[list(results2.keys())[4]].values()\n",
    "axs[2][0].bar(ind,values, width)\n",
    "axs[2][0].bar(ind+width,values2,width)\n",
    "axs[2][0].set_title(list(results1.keys())[4])\n",
    "#fig.delaxes(axs[2][0])\n",
    "fig.delaxes(axs[2][1])\n",
    "fig.text(0.5, 0.04, 'no of nodes', ha='center', va='center', fontsize=16)\n",
    "fig.text(0.06, 0.5, 'time', ha='center', va='center', rotation='vertical', fontsize=16)\n",
    "plt.suptitle(\"Tanh Time Comparison\", fontsize=16)\n",
    "plt.savefig('results_tanh_c_vs_python.png')\n",
    "plt.show()"
   ]
  },
  {
   "cell_type": "markdown",
   "metadata": {},
   "source": [
    "# Plotting Speed Up Factor"
   ]
  },
  {
   "cell_type": "code",
   "execution_count": 11,
   "metadata": {
    "collapsed": true
   },
   "outputs": [
    {
     "data": {
      "text/plain": [
       "{1000: {1: 0.05757436752319336,\n",
       "  2: 0.13047494888305664,\n",
       "  3: 0.1314249038696289,\n",
       "  4: 0.1282963275909424,\n",
       "  5: 0.12686095237731934,\n",
       "  6: 0.1293252944946289,\n",
       "  7: 0.12112250328063963,\n",
       "  8: 0.1253230094909668},\n",
       " 10000: {1: 0.4485907554626465,\n",
       "  2: 0.2437291622161865,\n",
       "  3: 0.18215641975402833,\n",
       "  4: 0.14651341438293458,\n",
       "  5: 0.12551283836364746,\n",
       "  6: 0.11493215560913086,\n",
       "  7: 0.12093720436096192,\n",
       "  8: 0.10426788330078125},\n",
       " 100000: {1: 4.450587749481201,\n",
       "  2: 2.318274736404419,\n",
       "  3: 1.5455414295196532,\n",
       "  4: 1.2142611503601075,\n",
       "  5: 1.065840721130371,\n",
       "  6: 0.9287771224975586,\n",
       "  7: 0.8552321910858154,\n",
       "  8: 0.8211063385009766},\n",
       " 1000000: {1: 50.676968050003055,\n",
       "  2: 26.001108837127685,\n",
       "  3: 17.537882471084593,\n",
       "  4: 13.377186298370361,\n",
       "  5: 11.418179607391357,\n",
       "  6: 9.560629987716675,\n",
       "  7: 8.477563381195068,\n",
       "  8: 7.748731279373169},\n",
       " 10000000: {1: 534.6657824516296,\n",
       "  2: 268.0396656036377,\n",
       "  3: 182.7151427268982,\n",
       "  4: 139.88027291297914,\n",
       "  5: 117.34354677200318,\n",
       "  6: 101.1520399093628,\n",
       "  7: 89.15256309509277,\n",
       "  8: 80.54293322563171}}"
      ]
     },
     "execution_count": 11,
     "metadata": {},
     "output_type": "execute_result"
    }
   ],
   "source": [
    "results"
   ]
  },
  {
   "cell_type": "code",
   "execution_count": 171,
   "metadata": {},
   "outputs": [],
   "source": [
    "speed_up_results = {}"
   ]
  },
  {
   "cell_type": "code",
   "execution_count": 237,
   "metadata": {},
   "outputs": [],
   "source": [
    "for ((key1,value1),(key2,value2)) in zip(results1.items(),results2.items()):\n",
    "    speed_up_results[key1] = {}\n",
    "    for ((key3,value3),(key4,value4)) in zip(value1.items(),value2.items()):\n",
    "        speed_up_results[key1][key3] = value3/value4"
   ]
  },
  {
   "cell_type": "code",
   "execution_count": 173,
   "metadata": {
    "collapsed": true
   },
   "outputs": [
    {
     "data": {
      "text/plain": [
       "{1000: {1: 16.999100692525214,\n",
       "  2: 5.070777780212746,\n",
       "  3: 3.3269290561301457,\n",
       "  4: 2.0629344774040095,\n",
       "  5: 1.8735915373419996,\n",
       "  6: 2.0756931922725887,\n",
       "  7: 2.3380149994534323,\n",
       "  8: 1.8345555305749588},\n",
       " 10000: {1: 11.778327712334901,\n",
       "  2: 5.371697630110731,\n",
       "  3: 5.33663959938662,\n",
       "  4: 3.524146596208357,\n",
       "  5: 3.436072513115348,\n",
       "  6: 2.7629048984176507,\n",
       "  7: 2.557595425380151,\n",
       "  8: 2.3927530234639067},\n",
       " 100000: {1: 11.571687898777764,\n",
       "  2: 7.914147559533095,\n",
       "  3: 6.1559792154617785,\n",
       "  4: 3.696173575077203,\n",
       "  5: 3.99256657366973,\n",
       "  6: 3.7570534004509697,\n",
       "  7: 3.679109515878979,\n",
       "  8: 3.9582941116029446},\n",
       " 1000000: {1: 10.207434853487687,\n",
       "  2: 9.256795722997817,\n",
       "  3: 6.0792375134184855,\n",
       "  4: 3.562999894620345,\n",
       "  5: 3.6799294978180352,\n",
       "  6: 3.3151161884532865,\n",
       "  7: 3.188780505208384,\n",
       "  8: 3.0382049943900133},\n",
       " 10000000: {1: 9.494155113538461,\n",
       "  2: 9.284358155621703,\n",
       "  3: 6.174341882178483,\n",
       "  4: 3.8972186831227966,\n",
       "  5: 3.561540898290163,\n",
       "  6: 3.259328786297827,\n",
       "  7: 3.0822015601804407,\n",
       "  8: 2.983095315981537}}"
      ]
     },
     "execution_count": 173,
     "metadata": {},
     "output_type": "execute_result"
    }
   ],
   "source": [
    "speed_up_results"
   ]
  },
  {
   "cell_type": "code",
   "execution_count": 239,
   "metadata": {},
   "outputs": [
    {
     "data": {
      "image/png": "[encoded data removed]",
      "text/plain": [
       "<Figure size 1280x1120 with 4 Axes>"
      ]
     },
     "metadata": {
      "needs_background": "light"
     },
     "output_type": "display_data"
    }
   ],
   "source": [
    "fig, axs = plt.subplots(2, 2, sharey=False, figsize=(16, 14), dpi=80)\n",
    "# Remove horizontal space between axes\n",
    "fig.subplots_adjust(wspace=0.2)\n",
    "fig.subplots_adjust(hspace=0.3)\n",
    "\n",
    "proc_no = []\n",
    "time = []\n",
    "for key,value in speed_up_results[1000].items():\n",
    "    proc_no.append(key)\n",
    "    time.append(value)\n",
    "axs[0][0].bar(proc_no,time)\n",
    "axs[0][0].set_title('1000')\n",
    "proc_no = []\n",
    "time = []\n",
    "for key,value in speed_up_results[10000].items():\n",
    "    proc_no.append(key)\n",
    "    time.append(value)\n",
    "axs[0][1].bar(proc_no,time)\n",
    "axs[0][1].set_title('10000')\n",
    "\n",
    "proc_no = []\n",
    "time = []\n",
    "for key,value in speed_up_results[100000].items():\n",
    "    proc_no.append(key)\n",
    "    time.append(value)\n",
    "axs[1][0].bar(proc_no,time)\n",
    "axs[1][0].set_title('100000')\n",
    "\n",
    "proc_no = []\n",
    "time = []\n",
    "for key,value in speed_up_results[1000000].items():\n",
    "    proc_no.append(key)\n",
    "    time.append(value)\n",
    "axs[1][1].bar(proc_no,time)\n",
    "axs[1][1].set_title('1000000')\n",
    "\n",
    "proc_no = []\n",
    "time = []\n",
    "for key,value in speed_up_results[10000000].items():\n",
    "    proc_no.append(key)\n",
    "    time.append(value)\n",
    "axs[2][0].bar(proc_no,time)\n",
    "axs[2][0].set_title('10000000 vectors')\n",
    "\n",
    "#fig.delaxes(axs[2][0])\n",
    "fig.delaxes(axs[2][1])\n",
    "fig.text(0.5, 0.04, 'no of nodes', ha='center', va='center', fontsize=16)\n",
    "fig.text(0.06, 0.5, 'Speed Up Factor', ha='center', va='center', rotation='vertical', fontsize=16)\n",
    "plt.suptitle(\"Tanh\", fontsize=16)\n",
    "plt.savefig('results_tanh_c_vs_python_scale.png')\n",
    "plt.show()"
   ]
  },
  {
   "cell_type": "code",
   "execution_count": null,
   "metadata": {},
   "outputs": [],
   "source": []
  }
 ],
 "metadata": {
  "kernelspec": {
   "display_name": "Python 3",
   "language": "python",
   "name": "python3"
  },
  "language_info": {
   "codemirror_mode": {
    "name": "ipython",
    "version": 3
   },
   "file_extension": ".py",
   "mimetype": "text/x-python",
   "name": "python",
   "nbconvert_exporter": "python",
   "pygments_lexer": "ipython3",
   "version": "3.6.7"
  }
 },
 "nbformat": 4,
 "nbformat_minor": 2
}
